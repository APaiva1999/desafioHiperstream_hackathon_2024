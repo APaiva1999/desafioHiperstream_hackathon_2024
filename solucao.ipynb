{
 "cells": [
  {
   "cell_type": "markdown",
   "id": "47b21314",
   "metadata": {},
   "source": [
    "# Desafio Hiperstream"
   ]
  },
  {
   "cell_type": "markdown",
   "id": "48e5ab26",
   "metadata": {},
   "source": [
    "Para começar o desenvolvimento do código primeiramente realizamos os imports necessários para o desenvolvimento da solução do desafio"
   ]
  },
  {
   "cell_type": "code",
   "execution_count": 1,
   "id": "f1d35ceb",
   "metadata": {},
   "outputs": [],
   "source": [
    "import pandas as pd\n",
    "import networkx as nx"
   ]
  },
  {
   "cell_type": "markdown",
   "id": "48672f84",
   "metadata": {},
   "source": [
    "Com auxílio da biblioteca Pandas, realizamos a leitura do csv e já transformamos num data frame"
   ]
  },
  {
   "cell_type": "code",
   "execution_count": 2,
   "id": "8c3c18d3-124d-4549-925a-4a04595e7bf9",
   "metadata": {},
   "outputs": [],
   "source": [
    "df = pd.read_csv(\"Baseparateste.csv\", sep=\";\")"
   ]
  },
  {
   "cell_type": "code",
   "execution_count": 3,
   "id": "677bd307-b805-4321-b341-879e3118f13e",
   "metadata": {
    "scrolled": true
   },
   "outputs": [
    {
     "name": "stdout",
     "output_type": "stream",
     "text": [
      "      ID                                               Nome  \\\n",
      "0   3036                                 Cliente-FATURA-HSJ   \n",
      "1   3037                           Cliente-FATURA-WFD-EMAIL   \n",
      "2   3038                 Cliente-FATURA-WFD-EMAIL-ALEATORIO   \n",
      "3   3039                   Cliente-FATURA-WFD-ARMAZENAMENTO   \n",
      "4   3040          Cliente-FATURA-WFD-ARMAZENAMNTO-ALEATORIO   \n",
      "5   3041                     Cliente-FATURA-QUEBRAPDF-EMAIL   \n",
      "6   3042             Cliente-FATURA-QUEBRAPDF-ARMAZENAMENTO   \n",
      "7   3043                 Cliente-FATURA-ACTION-EMAIL 1a VIA   \n",
      "8   3044                    Cliente-FATURA-INPUBLOG-DIGITAL   \n",
      "9   3045                    Cliente-FATURA-CARGAECM-DIGITAL   \n",
      "10  3046                Cliente-FATURA-DPREPORT-FIMPROCESSO   \n",
      "11  3048              Cliente-FATURA-WFD-IMPRESSO-ALEATORIO   \n",
      "12  3049                            Cliente-FATURA-WFD-IEEN   \n",
      "13  3050                    Cliente-FATURA-WFD-IMPRESSO-ECM   \n",
      "14  3051                  Cliente-FATURA-MOVERSPOOL-GRAFICA   \n",
      "15  3052                Cliente-FATURA-MOVERSPOOL-ARQ. IMPI   \n",
      "16  3053                  Cliente-FATURA-QUEBRAPDF-IMPRESSO   \n",
      "17  3054            Cliente-FATURA-MOVERSPOOL-ARQ.-EXCLUSAO   \n",
      "18  3056             Cliente-FATURA-MOVERSPOOL-ARQ.-CSV-DVA   \n",
      "19  3057                               Cliente-FATURA-START   \n",
      "20  3058                            Cliente-FATURA-2VIA-HSJ   \n",
      "21  3059                   Cliente-FATURA-2VIA-ACTION-EMAIL   \n",
      "22  3060      Cliente-FATURA-2VIA-DPREPORT-FIMPROCESSAMENTO   \n",
      "23  3061  Cliente-FATURA-2VIA-DPREPORT-INDEXAR-DADOS-ANA...   \n",
      "24  3062    Cliente-FATURA-DPREPORT-INDEXAR DADOS ANALITICO   \n",
      "25  3063                     Cliente-FATURA-DVA-FILE-UPLOAD   \n",
      "26  3064                 Cliente-FATURA-ACTION-EMAIL 2a VIA   \n",
      "\n",
      "                                          PastaOrigem  \\\n",
      "0             E:\\PRODUCAO\\Cliente\\FATURA\\HSJ\\ENTRADA\\   \n",
      "1   E:\\PRODUCAO\\Cliente\\FATURA\\FORMATAR_FATURA\\PRI...   \n",
      "2   E:\\PRODUCAO\\Cliente\\FATURA\\FORMATAR_FATURA\\PRI...   \n",
      "3   E:\\PRODUCAO\\Cliente\\FATURA\\FORMATAR_FATURA\\PRI...   \n",
      "4   E:\\PRODUCAO\\Cliente\\FATURA\\FORMATAR_FATURA\\PRI...   \n",
      "5        E:\\PRODUCAO\\Cliente\\FATURA\\SAIDAS\\PDF_UNICO\\   \n",
      "6        E:\\PRODUCAO\\Cliente\\FATURA\\SAIDAS\\PDF_UNICO\\   \n",
      "7          E:\\PRODUCAO\\Cliente\\FATURA\\ACTION\\ENTRADA\\   \n",
      "8               E:\\PRODUCAO\\Cliente\\FATURA\\INPUTBLOG\\   \n",
      "9               E:\\PRODUCAO\\Cliente\\FATURA\\CARGA_ECM\\   \n",
      "10  E:\\PRODUCAO\\Cliente\\FATURA\\DPREPORT\\DPR_FIM_PR...   \n",
      "11  E:\\PRODUCAO\\Cliente\\FATURA\\FORMATAR_FATURA\\PRI...   \n",
      "12  E:\\PRODUCAO\\Cliente\\FATURA\\FORMATAR_FATURA\\PRI...   \n",
      "13  E:\\PRODUCAO\\Cliente\\FATURA\\FORMATAR_FATURA\\PRI...   \n",
      "14  E:\\PRODUCAO\\Cliente\\FATURA\\MOVERSPOOL\\MOV_ARQG...   \n",
      "15  E:\\PRODUCAO\\Cliente\\FATURA\\FORMATAR_FATURA\\PRI...   \n",
      "16       E:\\PRODUCAO\\Cliente\\FATURA\\SAIDAS\\PDF_UNICO\\   \n",
      "17  E:\\PRODUCAO\\Cliente\\FATURA\\FORMATAR_FATURA\\PRI...   \n",
      "18  E:\\PRODUCAO\\Cliente\\FATURA\\ARMAZEM\\relatorios-...   \n",
      "19                  E:\\PRODUCAO\\Cliente\\FATURA\\START\\   \n",
      "20       E:\\PRODUCAO\\Cliente\\FATURA_2VIA\\HSJ\\ENTRADA\\   \n",
      "21    E:\\PRODUCAO\\Cliente\\FATURA_2VIA\\ACTION\\ENTRADA\\   \n",
      "22  E:\\PRODUCAO\\Cliente\\FATURA_2VIA\\DPREPORT\\DPR_F...   \n",
      "23  E:\\PRODUCAO\\Cliente\\FATURA_2VIA\\DPREPORT\\DPR_I...   \n",
      "24  E:\\PRODUCAO\\Cliente\\FATURA\\DPREPORT\\DPR_INDEXA...   \n",
      "25            \\\\FT002\\PARCEIROS\\Cliente\\PRD\\DOWNLOAD\\   \n",
      "26         E:\\PRODUCAO\\Cliente\\FATURA\\ACTION\\ENTRADA\\   \n",
      "\n",
      "                                         PastaDestino  \\\n",
      "0   E:\\PRODUCAO\\BV\\FATURA\\FORMATAR_FATURA\\PRINTNET...   \n",
      "1               \\\\HSLAN028-0\\SAIDAS_BV_FAT\\PDF_UNICO\\   \n",
      "2              \\\\HSLAN028-0\\SAIDAS_BV_FAT\\ALEATORIOS\\   \n",
      "3               \\\\HSLAN028-0\\SAIDAS_BV_FAT\\PDF_UNICO\\   \n",
      "4              \\\\HSLAN028-0\\SAIDAS_BV_FAT\\ALEATORIOS\\   \n",
      "5                   E:\\PRODUCAO\\BV\\FATURA\\SAIDAS\\ECM\\   \n",
      "6                   E:\\PRODUCAO\\BV\\FATURA\\SAIDAS\\ECM\\   \n",
      "7                                                       \n",
      "8            E:\\PRODUCAO\\BV\\FATURA\\SAIDAS\\ALEATORIOS\\   \n",
      "9           E:\\APLICATIVO\\BV\\FATURA\\ECM_LOAD\\Configs\\   \n",
      "10                                                NaN   \n",
      "11             \\\\HSLAN028-0\\SAIDAS_BV_FAT\\ALEATORIOS\\   \n",
      "12              \\\\HSLAN028-0\\SAIDAS_BV_FAT\\PDF_UNICO\\   \n",
      "13              \\\\HSLAN028-0\\SAIDAS_BV_FAT\\PDF_UNICO\\   \n",
      "14                       \\\\ft001\\VALID\\BV\\PRD\\upload\\   \n",
      "15                                                NaN   \n",
      "16                  E:\\PRODUCAO\\BV\\FATURA\\SAIDAS\\ECM\\   \n",
      "17                                                NaN   \n",
      "18                                                NaN   \n",
      "19  E:\\PRODUCAO\\BV\\FATURA\\FORMATAR_FATURA\\PRINTNET...   \n",
      "20         E:\\PRODUCAO\\BV\\FATURA_2VIA\\ACTION\\ENTRADA\\   \n",
      "21                                                      \n",
      "22                                                NaN   \n",
      "23                                                NaN   \n",
      "24                                                NaN   \n",
      "25                                                      \n",
      "26                                                      \n",
      "\n",
      "                                          PastaBackup  \n",
      "0         E:\\PRODUCAO\\Cliente\\FATURA\\HSJ\\ENTRADA\\BKP\\  \n",
      "1          E:\\PRODUCAO\\Cliente\\FATURA\\ACTION\\ENTRADA\\  \n",
      "2               E:\\PRODUCAO\\Cliente\\FATURA\\INPUTBLOG\\  \n",
      "3               E:\\PRODUCAO\\Cliente\\FATURA\\CARGA_ECM\\  \n",
      "4               E:\\PRODUCAO\\Cliente\\FATURA\\INPUTBLOG\\  \n",
      "5          E:\\PRODUCAO\\Cliente\\FATURA\\ACTION\\ENTRADA\\  \n",
      "6               E:\\PRODUCAO\\Cliente\\FATURA\\CARGA_ECM\\  \n",
      "7               E:\\PRODUCAO\\Cliente\\FATURA\\CARGA_ECM\\  \n",
      "8             E:\\PRODUCAO\\Cliente\\FATURA\\PROCESSADOS\\  \n",
      "9   E:\\PRODUCAO\\Cliente\\FATURA\\DPREPORT\\DPR_FIM_PR...  \n",
      "10  E:\\PRODUCAO\\Cliente\\FATURA\\DPREPORT\\DPR_INDEXA...  \n",
      "11              E:\\PRODUCAO\\Cliente\\FATURA\\INPUTBLOG\\  \n",
      "12         E:\\PRODUCAO\\Cliente\\FATURA\\ACTION\\ENTRADA\\  \n",
      "13              E:\\PRODUCAO\\Cliente\\FATURA\\CARGA_ECM\\  \n",
      "14  E:\\PRODUCAO\\Cliente\\FATURA\\FORMATAR_FATURA\\PRI...  \n",
      "15  E:\\PRODUCAO\\Cliente\\FATURA\\FORMATAR_FATURA\\PRI...  \n",
      "16              E:\\PRODUCAO\\Cliente\\FATURA\\CARGA_ECM\\  \n",
      "17  E:\\PRODUCAO\\Cliente\\FATURA\\DPREPORT\\DPR_FIM_PR...  \n",
      "18                E:\\PRODUCAO\\Cliente\\FATURA\\ARMAZEM\\  \n",
      "19              E:\\PRODUCAO\\Cliente\\FATURA\\START\\BKP\\  \n",
      "20   E:\\PRODUCAO\\Cliente\\FATURA_2VIA\\HSJ\\ENTRADA\\BKP\\  \n",
      "21  E:\\PRODUCAO\\Cliente\\FATURA_2VIA\\DPREPORT\\DPR_F...  \n",
      "22  E:\\PRODUCAO\\Cliente\\FATURA_2VIA\\DPREPORT\\DPR_I...  \n",
      "23       E:\\PRODUCAO\\Cliente\\FATURA_2VIA\\PROCESSADOS\\  \n",
      "24            E:\\PRODUCAO\\Cliente\\FATURA\\PROCESSADOS\\  \n",
      "25                E:\\PRODUCAO\\Cliente\\FATURA\\ARMAZEM\\  \n",
      "26              E:\\PRODUCAO\\Cliente\\FATURA\\CARGA_ECM\\  \n"
     ]
    }
   ],
   "source": [
    "print (df)"
   ]
  },
  {
   "cell_type": "markdown",
   "id": "66f07ea8",
   "metadata": {},
   "source": [
    "Para primeira parte da resolução lógica do problema, verificamos quais IDs/Nomes estão ligados a quais Pasta de Origem, visto que para uma mesma Pasta de Origem é possível diversos valores IDs/Nomes diferentes. Sendo assim geramos um dicionário \"adj\" contendo todas entradas"
   ]
  },
  {
   "cell_type": "code",
   "execution_count": 4,
   "id": "b88db61c-5c8a-4e2a-bc36-66c6cd393d63",
   "metadata": {
    "scrolled": true
   },
   "outputs": [
    {
     "name": "stdout",
     "output_type": "stream",
     "text": [
      "{'E:\\\\PRODUCAO\\\\Cliente\\\\FATURA\\\\HSJ\\\\ENTRADA\\\\': ['Cliente-FATURA-HSJ'], 'E:\\\\PRODUCAO\\\\Cliente\\\\FATURA\\\\FORMATAR_FATURA\\\\PRINTNET\\\\ENTRADA\\\\': ['Cliente-FATURA-WFD-EMAIL', 'Cliente-FATURA-WFD-EMAIL-ALEATORIO', 'Cliente-FATURA-WFD-ARMAZENAMENTO', 'Cliente-FATURA-WFD-ARMAZENAMNTO-ALEATORIO', 'Cliente-FATURA-WFD-IMPRESSO-ALEATORIO', 'Cliente-FATURA-MOVERSPOOL-ARQ.-EXCLUSAO'], 'E:\\\\PRODUCAO\\\\Cliente\\\\FATURA\\\\SAIDAS\\\\PDF_UNICO\\\\': ['Cliente-FATURA-QUEBRAPDF-EMAIL', 'Cliente-FATURA-QUEBRAPDF-ARMAZENAMENTO', 'Cliente-FATURA-QUEBRAPDF-IMPRESSO'], 'E:\\\\PRODUCAO\\\\Cliente\\\\FATURA\\\\ACTION\\\\ENTRADA\\\\': ['Cliente-FATURA-ACTION-EMAIL 1a VIA', 'Cliente-FATURA-ACTION-EMAIL 2a VIA'], 'E:\\\\PRODUCAO\\\\Cliente\\\\FATURA\\\\INPUTBLOG\\\\': ['Cliente-FATURA-INPUBLOG-DIGITAL'], 'E:\\\\PRODUCAO\\\\Cliente\\\\FATURA\\\\CARGA_ECM\\\\': ['Cliente-FATURA-CARGAECM-DIGITAL'], 'E:\\\\PRODUCAO\\\\Cliente\\\\FATURA\\\\DPREPORT\\\\DPR_FIM_PROCESSAMENTO\\\\': ['Cliente-FATURA-DPREPORT-FIMPROCESSO'], 'E:\\\\PRODUCAO\\\\Cliente\\\\FATURA\\\\FORMATAR_FATURA\\\\PRINTNET\\\\ENTRADA_PNET_IEEN\\\\': ['Cliente-FATURA-WFD-IEEN', 'Cliente-FATURA-WFD-IMPRESSO-ECM', 'Cliente-FATURA-MOVERSPOOL-ARQ. IMPI'], 'E:\\\\PRODUCAO\\\\Cliente\\\\FATURA\\\\MOVERSPOOL\\\\MOV_ARQGRAFICA\\\\': ['Cliente-FATURA-MOVERSPOOL-GRAFICA'], 'E:\\\\PRODUCAO\\\\Cliente\\\\FATURA\\\\ARMAZEM\\\\relatorios-regras': ['Cliente-FATURA-MOVERSPOOL-ARQ.-CSV-DVA'], 'E:\\\\PRODUCAO\\\\Cliente\\\\FATURA\\\\START\\\\': ['Cliente-FATURA-START'], 'E:\\\\PRODUCAO\\\\Cliente\\\\FATURA_2VIA\\\\HSJ\\\\ENTRADA\\\\': ['Cliente-FATURA-2VIA-HSJ'], 'E:\\\\PRODUCAO\\\\Cliente\\\\FATURA_2VIA\\\\ACTION\\\\ENTRADA\\\\': ['Cliente-FATURA-2VIA-ACTION-EMAIL'], 'E:\\\\PRODUCAO\\\\Cliente\\\\FATURA_2VIA\\\\DPREPORT\\\\DPR_FIMPRCESSAMENTO\\\\': ['Cliente-FATURA-2VIA-DPREPORT-FIMPROCESSAMENTO'], 'E:\\\\PRODUCAO\\\\Cliente\\\\FATURA_2VIA\\\\DPREPORT\\\\DPR_INDEXAR_DADOS_ANALITICO\\\\': ['Cliente-FATURA-2VIA-DPREPORT-INDEXAR-DADOS-ANALITICO'], 'E:\\\\PRODUCAO\\\\Cliente\\\\FATURA\\\\DPREPORT\\\\DPR_INDEXAR_DADOS_ANALITICO\\\\': ['Cliente-FATURA-DPREPORT-INDEXAR DADOS ANALITICO'], '\\\\\\\\FT002\\\\PARCEIROS\\\\Cliente\\\\PRD\\\\DOWNLOAD\\\\': ['Cliente-FATURA-DVA-FILE-UPLOAD']}\n"
     ]
    }
   ],
   "source": [
    "adj={}\n",
    "\n",
    "nome = df[\"Nome\"]\n",
    "pastaorigem = df[\"PastaOrigem\"]\n",
    "\n",
    "for i in range (len(df)):\n",
    "    pastaorigem[i]\n",
    "    nome[i]\n",
    "    if pastaorigem[i] not in adj:\n",
    "        adj[pastaorigem[i]] = [nome[i]]\n",
    "    else:\n",
    "        adj[pastaorigem[i]].append(nome[i])\n",
    "print(adj)"
   ]
  },
  {
   "cell_type": "markdown",
   "id": "cc46e54f",
   "metadata": {},
   "source": [
    "Com essa informação dos {Pasta Destino : [IDs/Nomes]} em mãos, adicionamos uma condição a fim de verificar quais valores de Pasta Destino e Pasta Backup estão em \"adj\", gerando os edges"
   ]
  },
  {
   "cell_type": "code",
   "execution_count": 5,
   "id": "025b5574-4330-4234-b40c-1c249c1310aa",
   "metadata": {},
   "outputs": [],
   "source": [
    "G = nx.MultiDiGraph()\n",
    "\n",
    "for i in range (len(df)):\n",
    "    destinos = []\n",
    "    nome = df[\"Nome\"][i]\n",
    "    pastadestino = df[\"PastaDestino\"][i]\n",
    "    pastabackup = df[\"PastaBackup\"][i]\n",
    "    if pastadestino in adj:\n",
    "        destinos.extend(adj[pastadestino])\n",
    "    if pastabackup in adj:\n",
    "        destinos.extend(adj[pastabackup])\n",
    "    for destino in destinos:\n",
    "        G.add_edge(nome , destino)"
   ]
  },
  {
   "cell_type": "markdown",
   "id": "bc194804",
   "metadata": {},
   "source": [
    "Setando o layout como Spring, porém existem diversas outras opções de \"organização\" e desenhando as ligações e os nós"
   ]
  },
  {
   "cell_type": "code",
   "execution_count": 10,
   "id": "59b16c8f-023e-4c0d-bcc5-187ce409e9cb",
   "metadata": {},
   "outputs": [
    {
     "data": {
      "text/plain": [
       "{'Cliente-FATURA-WFD-EMAIL': Text(-0.04826832380693639, 0.1736889508132888, 'Cliente-FATURA-WFD-EMAIL'),\n",
       " 'Cliente-FATURA-ACTION-EMAIL 1a VIA': Text(-0.1418685351087599, 0.1321626024119621, 'Cliente-FATURA-ACTION-EMAIL 1a VIA'),\n",
       " 'Cliente-FATURA-ACTION-EMAIL 2a VIA': Text(-0.04462839187258463, 0.30679004557290923, 'Cliente-FATURA-ACTION-EMAIL 2a VIA'),\n",
       " 'Cliente-FATURA-WFD-EMAIL-ALEATORIO': Text(-0.4528403627682545, -0.3096105047492777, 'Cliente-FATURA-WFD-EMAIL-ALEATORIO'),\n",
       " 'Cliente-FATURA-INPUBLOG-DIGITAL': Text(-0.5270770669251167, -0.37307522484038946, 'Cliente-FATURA-INPUBLOG-DIGITAL'),\n",
       " 'Cliente-FATURA-WFD-ARMAZENAMENTO': Text(0.029653207906923724, 0.116258173437936, 'Cliente-FATURA-WFD-ARMAZENAMENTO'),\n",
       " 'Cliente-FATURA-CARGAECM-DIGITAL': Text(-0.13191509386528588, 0.22049777415512684, 'Cliente-FATURA-CARGAECM-DIGITAL'),\n",
       " 'Cliente-FATURA-WFD-ARMAZENAMNTO-ALEATORIO': Text(-0.402980792077012, -0.3807338547500043, 'Cliente-FATURA-WFD-ARMAZENAMNTO-ALEATORIO'),\n",
       " 'Cliente-FATURA-QUEBRAPDF-EMAIL': Text(-0.01429266672569933, 0.1765071013136286, 'Cliente-FATURA-QUEBRAPDF-EMAIL'),\n",
       " 'Cliente-FATURA-QUEBRAPDF-ARMAZENAMENTO': Text(0.031795951063450574, 0.2644050047965373, 'Cliente-FATURA-QUEBRAPDF-ARMAZENAMENTO'),\n",
       " 'Cliente-FATURA-DPREPORT-FIMPROCESSO': Text(-0.321475709744276, 0.310631353479669, 'Cliente-FATURA-DPREPORT-FIMPROCESSO'),\n",
       " 'Cliente-FATURA-DPREPORT-INDEXAR DADOS ANALITICO': Text(-0.4605444540454135, 0.40700579803512865, 'Cliente-FATURA-DPREPORT-INDEXAR DADOS ANALITICO'),\n",
       " 'Cliente-FATURA-WFD-IMPRESSO-ALEATORIO': Text(-0.3972261138617613, -0.2984003714655342, 'Cliente-FATURA-WFD-IMPRESSO-ALEATORIO'),\n",
       " 'Cliente-FATURA-WFD-IEEN': Text(-0.03536189682635324, 0.21750984648263258, 'Cliente-FATURA-WFD-IEEN'),\n",
       " 'Cliente-FATURA-WFD-IMPRESSO-ECM': Text(0.022089272328238947, 0.21718776339839393, 'Cliente-FATURA-WFD-IMPRESSO-ECM'),\n",
       " 'Cliente-FATURA-MOVERSPOOL-GRAFICA': Text(0.1372546580980785, -0.28167699013812586, 'Cliente-FATURA-MOVERSPOOL-GRAFICA'),\n",
       " 'Cliente-FATURA-MOVERSPOOL-ARQ. IMPI': Text(0.3371565181430074, -0.9860164289115905, 'Cliente-FATURA-MOVERSPOOL-ARQ. IMPI'),\n",
       " 'Cliente-FATURA-QUEBRAPDF-IMPRESSO': Text(-0.11338442862726612, 0.0968388180865302, 'Cliente-FATURA-QUEBRAPDF-IMPRESSO'),\n",
       " 'Cliente-FATURA-MOVERSPOOL-ARQ.-EXCLUSAO': Text(-0.3265712305709993, 0.3906441259489453, 'Cliente-FATURA-MOVERSPOOL-ARQ.-EXCLUSAO'),\n",
       " 'Cliente-FATURA-2VIA-ACTION-EMAIL': Text(0.8784515623124279, -0.21808556305231808, 'Cliente-FATURA-2VIA-ACTION-EMAIL'),\n",
       " 'Cliente-FATURA-2VIA-DPREPORT-FIMPROCESSAMENTO': Text(0.9820338969735924, -0.13126705392682167, 'Cliente-FATURA-2VIA-DPREPORT-FIMPROCESSAMENTO'),\n",
       " 'Cliente-FATURA-2VIA-DPREPORT-INDEXAR-DADOS-ANALITICO': Text(1.0, -0.051261366098625756, 'Cliente-FATURA-2VIA-DPREPORT-INDEXAR-DADOS-ANALITICO')}"
      ]
     },
     "execution_count": 10,
     "metadata": {},
     "output_type": "execute_result"
    },
    {
     "data": {
      "image/png": "[encoded data removed]",
      "text/plain": [
       "<Figure size 640x480 with 1 Axes>"
      ]
     },
     "metadata": {},
     "output_type": "display_data"
    }
   ],
   "source": [
    "pos = nx.spring_layout(G)\n",
    "nx.draw_networkx_nodes(G, pos, node_size=200)\n",
    "nx.draw_networkx_edges(G,pos, arrows=True, arrowsize=5)\n",
    "nx.draw_networkx_labels(G,pos, font_size=4)"
   ]
  },
  {
   "cell_type": "code",
   "execution_count": null,
   "id": "2af34382-6346-4eb0-bda3-c7f2326ec109",
   "metadata": {},
   "outputs": [],
   "source": []
  },
  {
   "cell_type": "code",
   "execution_count": null,
   "id": "46363488-9c71-457f-8ff6-9ca70370ac39",
   "metadata": {},
   "outputs": [],
   "source": []
  },
  {
   "cell_type": "code",
   "execution_count": null,
   "id": "ce67133e",
   "metadata": {},
   "outputs": [],
   "source": []
  }
 ],
 "metadata": {
  "kernelspec": {
   "display_name": "Python 3 (ipykernel)",
   "language": "python",
   "name": "python3"
  },
  "language_info": {
   "codemirror_mode": {
    "name": "ipython",
    "version": 3
   },
   "file_extension": ".py",
   "mimetype": "text/x-python",
   "name": "python",
   "nbconvert_exporter": "python",
   "pygments_lexer": "ipython3",
   "version": "3.11.7"
  }
 },
 "nbformat": 4,
 "nbformat_minor": 5
}
